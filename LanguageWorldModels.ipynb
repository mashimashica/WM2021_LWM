{
  "nbformat": 4,
  "nbformat_minor": 0,
  "metadata": {
    "colab": {
      "name": "LanguageWorldModels.ipynb",
      "provenance": []
    },
    "kernelspec": {
      "name": "python3",
      "display_name": "Python 3"
    },
    "language_info": {
      "name": "python"
    },
    "accelerator": "GPU"
  },
  "cells": [
    {
      "cell_type": "markdown",
      "source": [
        "# インストール"
      ],
      "metadata": {
        "id": "jPm5PQ6Ev5Er"
      }
    },
    {
      "cell_type": "code",
      "source": [
        "!apt install xvfb\n",
        "!pip install pyopengl\n",
        "!git clone https://github.com/kandouss/marlgrid\n",
        "!pip install -e ./marlgrid"
      ],
      "metadata": {
        "id": "OgDW-fScv4mu"
      },
      "execution_count": null,
      "outputs": []
    },
    {
      "cell_type": "code",
      "execution_count": null,
      "metadata": {
        "id": "fR8a-NPKvrqJ"
      },
      "outputs": [],
      "source": [
        "!git clone https://github.com/mashimashica/WM2021_LWM.git"
      ]
    },
    {
      "cell_type": "code",
      "source": [
        "%cd /content/WM2021_LWM/language_world_models"
      ],
      "metadata": {
        "id": "Ym2xgrCVwNT6"
      },
      "execution_count": null,
      "outputs": []
    },
    {
      "cell_type": "markdown",
      "source": [
        "# 訓練\n",
        "訓練経過の画像とログで`--results_dir`に保存される．  \n",
        "モデルは，`--checkpoints_dir`に保存される．"
      ],
      "metadata": {
        "id": "nHnbdClcwOV1"
      }
    },
    {
      "cell_type": "code",
      "source": [
        "!xvfb-run -s \"-screen 0 1400x900x24\" python train.py \\\n",
        "    --beta_dim=256 --m_dim=64 --z_dim=64 --pred_z_steps=10 \\\n",
        "    --num_episodes=200000 --batch_episode=16 --batch_size=64 --explore_episodes=4000 --explore_max_steps=1000 \\\n",
        "    --print_freq=100 --save_freq=10000 --test_freq=1000"
      ],
      "metadata": {
        "id": "dlWf01edwRXb"
      },
      "execution_count": null,
      "outputs": []
    }
  ]
}
